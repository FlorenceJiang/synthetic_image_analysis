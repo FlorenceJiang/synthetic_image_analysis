{
  "nbformat": 4,
  "nbformat_minor": 0,
  "metadata": {
    "colab": {
      "name": "AE/DenoisingAE/VAE.ipynb",
      "provenance": []
    },
    "kernelspec": {
      "name": "python3",
      "display_name": "Python 3"
    },
    "widgets": {
      "application/vnd.jupyter.widget-state+json": {
        "2f4cf824fd2445f8ba6da5b05f20c265": {
          "model_module": "@jupyter-widgets/controls",
          "model_name": "HBoxModel",
          "state": {
            "_view_name": "HBoxView",
            "_dom_classes": [],
            "_model_name": "HBoxModel",
            "_view_module": "@jupyter-widgets/controls",
            "_model_module_version": "1.5.0",
            "_view_count": null,
            "_view_module_version": "1.5.0",
            "box_style": "",
            "layout": "IPY_MODEL_d4148aab63fb49078c126f2a84c413de",
            "_model_module": "@jupyter-widgets/controls",
            "children": [
              "IPY_MODEL_00d047eb9bc24cfbbd01e1ce0d5ca5fa",
              "IPY_MODEL_61cbb76c025148b393bc26b0a2e1b21d"
            ]
          }
        },
        "d4148aab63fb49078c126f2a84c413de": {
          "model_module": "@jupyter-widgets/base",
          "model_name": "LayoutModel",
          "state": {
            "_view_name": "LayoutView",
            "grid_template_rows": null,
            "right": null,
            "justify_content": null,
            "_view_module": "@jupyter-widgets/base",
            "overflow": null,
            "_model_module_version": "1.2.0",
            "_view_count": null,
            "flex_flow": null,
            "width": null,
            "min_width": null,
            "border": null,
            "align_items": null,
            "bottom": null,
            "_model_module": "@jupyter-widgets/base",
            "top": null,
            "grid_column": null,
            "overflow_y": null,
            "overflow_x": null,
            "grid_auto_flow": null,
            "grid_area": null,
            "grid_template_columns": null,
            "flex": null,
            "_model_name": "LayoutModel",
            "justify_items": null,
            "grid_row": null,
            "max_height": null,
            "align_content": null,
            "visibility": null,
            "align_self": null,
            "height": null,
            "min_height": null,
            "padding": null,
            "grid_auto_rows": null,
            "grid_gap": null,
            "max_width": null,
            "order": null,
            "_view_module_version": "1.2.0",
            "grid_template_areas": null,
            "object_position": null,
            "object_fit": null,
            "grid_auto_columns": null,
            "margin": null,
            "display": null,
            "left": null
          }
        },
        "00d047eb9bc24cfbbd01e1ce0d5ca5fa": {
          "model_module": "@jupyter-widgets/controls",
          "model_name": "FloatProgressModel",
          "state": {
            "_view_name": "ProgressView",
            "style": "IPY_MODEL_f4fee24eeb6b4c8f8b5ed68cfe882f1a",
            "_dom_classes": [],
            "description": "100%",
            "_model_name": "FloatProgressModel",
            "bar_style": "success",
            "max": 43,
            "_view_module": "@jupyter-widgets/controls",
            "_model_module_version": "1.5.0",
            "value": 43,
            "_view_count": null,
            "_view_module_version": "1.5.0",
            "orientation": "horizontal",
            "min": 0,
            "description_tooltip": null,
            "_model_module": "@jupyter-widgets/controls",
            "layout": "IPY_MODEL_0be8a7a2363b4db49bb0194432f599b8"
          }
        },
        "61cbb76c025148b393bc26b0a2e1b21d": {
          "model_module": "@jupyter-widgets/controls",
          "model_name": "HTMLModel",
          "state": {
            "_view_name": "HTMLView",
            "style": "IPY_MODEL_ed6355f2c81f4e43a8dd26f33d55133b",
            "_dom_classes": [],
            "description": "",
            "_model_name": "HTMLModel",
            "placeholder": "​",
            "_view_module": "@jupyter-widgets/controls",
            "_model_module_version": "1.5.0",
            "value": " 43/43 [00:00&lt;00:00, 74.04it/s]",
            "_view_count": null,
            "_view_module_version": "1.5.0",
            "description_tooltip": null,
            "_model_module": "@jupyter-widgets/controls",
            "layout": "IPY_MODEL_2d42925592bf4869892e49287889ccf6"
          }
        },
        "f4fee24eeb6b4c8f8b5ed68cfe882f1a": {
          "model_module": "@jupyter-widgets/controls",
          "model_name": "ProgressStyleModel",
          "state": {
            "_view_name": "StyleView",
            "_model_name": "ProgressStyleModel",
            "description_width": "initial",
            "_view_module": "@jupyter-widgets/base",
            "_model_module_version": "1.5.0",
            "_view_count": null,
            "_view_module_version": "1.2.0",
            "bar_color": null,
            "_model_module": "@jupyter-widgets/controls"
          }
        },
        "0be8a7a2363b4db49bb0194432f599b8": {
          "model_module": "@jupyter-widgets/base",
          "model_name": "LayoutModel",
          "state": {
            "_view_name": "LayoutView",
            "grid_template_rows": null,
            "right": null,
            "justify_content": null,
            "_view_module": "@jupyter-widgets/base",
            "overflow": null,
            "_model_module_version": "1.2.0",
            "_view_count": null,
            "flex_flow": null,
            "width": null,
            "min_width": null,
            "border": null,
            "align_items": null,
            "bottom": null,
            "_model_module": "@jupyter-widgets/base",
            "top": null,
            "grid_column": null,
            "overflow_y": null,
            "overflow_x": null,
            "grid_auto_flow": null,
            "grid_area": null,
            "grid_template_columns": null,
            "flex": null,
            "_model_name": "LayoutModel",
            "justify_items": null,
            "grid_row": null,
            "max_height": null,
            "align_content": null,
            "visibility": null,
            "align_self": null,
            "height": null,
            "min_height": null,
            "padding": null,
            "grid_auto_rows": null,
            "grid_gap": null,
            "max_width": null,
            "order": null,
            "_view_module_version": "1.2.0",
            "grid_template_areas": null,
            "object_position": null,
            "object_fit": null,
            "grid_auto_columns": null,
            "margin": null,
            "display": null,
            "left": null
          }
        },
        "ed6355f2c81f4e43a8dd26f33d55133b": {
          "model_module": "@jupyter-widgets/controls",
          "model_name": "DescriptionStyleModel",
          "state": {
            "_view_name": "StyleView",
            "_model_name": "DescriptionStyleModel",
            "description_width": "",
            "_view_module": "@jupyter-widgets/base",
            "_model_module_version": "1.5.0",
            "_view_count": null,
            "_view_module_version": "1.2.0",
            "_model_module": "@jupyter-widgets/controls"
          }
        },
        "2d42925592bf4869892e49287889ccf6": {
          "model_module": "@jupyter-widgets/base",
          "model_name": "LayoutModel",
          "state": {
            "_view_name": "LayoutView",
            "grid_template_rows": null,
            "right": null,
            "justify_content": null,
            "_view_module": "@jupyter-widgets/base",
            "overflow": null,
            "_model_module_version": "1.2.0",
            "_view_count": null,
            "flex_flow": null,
            "width": null,
            "min_width": null,
            "border": null,
            "align_items": null,
            "bottom": null,
            "_model_module": "@jupyter-widgets/base",
            "top": null,
            "grid_column": null,
            "overflow_y": null,
            "overflow_x": null,
            "grid_auto_flow": null,
            "grid_area": null,
            "grid_template_columns": null,
            "flex": null,
            "_model_name": "LayoutModel",
            "justify_items": null,
            "grid_row": null,
            "max_height": null,
            "align_content": null,
            "visibility": null,
            "align_self": null,
            "height": null,
            "min_height": null,
            "padding": null,
            "grid_auto_rows": null,
            "grid_gap": null,
            "max_width": null,
            "order": null,
            "_view_module_version": "1.2.0",
            "grid_template_areas": null,
            "object_position": null,
            "object_fit": null,
            "grid_auto_columns": null,
            "margin": null,
            "display": null,
            "left": null
          }
        }
      }
    }
  },
  "cells": [
    {
      "cell_type": "code",
      "metadata": {
        "id": "eFl_Qxgb6Wgy"
      },
      "source": [
        "import json\n",
        "import pandas as pd\n",
        "import math\n",
        "from tqdm import tqdm \n",
        "import cv2\n",
        "import numpy as np\n",
        "import os\n",
        "\n",
        "import torch \n",
        "import torchvision\n",
        "import torch.nn as nn \n",
        "from IPython.display import Image \n",
        "from torchvision import transforms\n",
        "import matplotlib.pyplot as plt\n",
        "import random\n",
        "from torch.utils.data import DataLoader\n",
        "from tqdm.auto import tqdm\n",
        "device = torch.device(\"cuda\" if torch.cuda.is_available() else \"cpu\")\n",
        "seed = 12345\n",
        "random.seed(seed)\n",
        "torch.manual_seed(seed)\n",
        "import PIL\n",
        "import requests\n",
        "  \n",
        "from sklearn import decomposition    \n",
        "from sklearn.preprocessing import MinMaxScaler"
      ],
      "execution_count": 1,
      "outputs": []
    },
    {
      "cell_type": "markdown",
      "metadata": {
        "id": "bqdgr98kVNjE"
      },
      "source": [
        "# Load wrong predictions"
      ]
    },
    {
      "cell_type": "code",
      "metadata": {
        "colab": {
          "base_uri": "https://localhost:8080/",
          "height": 118,
          "referenced_widgets": [
            "2f4cf824fd2445f8ba6da5b05f20c265",
            "d4148aab63fb49078c126f2a84c413de",
            "00d047eb9bc24cfbbd01e1ce0d5ca5fa",
            "61cbb76c025148b393bc26b0a2e1b21d",
            "f4fee24eeb6b4c8f8b5ed68cfe882f1a",
            "0be8a7a2363b4db49bb0194432f599b8",
            "ed6355f2c81f4e43a8dd26f33d55133b",
            "2d42925592bf4869892e49287889ccf6"
          ]
        },
        "id": "qW0aj7lINQiH",
        "outputId": "dece8436-efdd-4996-a94c-72e7b8043625"
      },
      "source": [
        "def load_preds():\n",
        "    '''\n",
        "    load wrong predictions on real data\n",
        "    '''\n",
        "    coco_dir = \"/content/drive/MyDrive/111 Rendered.ai/RarePlanes/output/coco_instances_results.json\"\n",
        "    images_dir = \"/content/drive/MyDrive/111 Rendered.ai/RarePlanes/datasets/synthetic/test/images/\"\n",
        "    test_json_dir = coco_dir\n",
        "    with open(test_json_dir) as json_file:\n",
        "        preds_coco = json.load(json_file)\n",
        "    preds_coco = pd.DataFrame(preds_coco)\n",
        "    print(\"There are {} predicted bbox.\".format(preds_coco.shape[0]))\n",
        "    return preds_coco\n",
        "\n",
        "\n",
        "def get_image_ann():\n",
        "    '''\n",
        "    load image annotations\n",
        "    '''\n",
        "    coco_dir = \"/content/drive/MyDrive/111 Rendered.ai/RarePlanes/datasets/coco_data/aircraft_real_test_coco.json\"\n",
        "    images_dir = \"/content/drive/MyDrive/111 Rendered.ai/RarePlanes/datasets/real/test/RarePlanes_test_PS-RGB_tiled.tar.gz (Unzipped Files)/PS-RGB_tiled\"\n",
        "    test_json_dir = coco_dir\n",
        "    with open(test_json_dir) as json_file:\n",
        "        test_coco = json.load(json_file)\n",
        "    img_list = pd.DataFrame(test_coco['images'])\n",
        "    annotations = pd.DataFrame(test_coco['annotations'])\n",
        "    ann = annotations.merge(img_list, how='left', left_on=\"image_id\", right_on=\"id\")\n",
        "    return ann\n",
        "\n",
        "\n",
        "def get_wrong_pred_img_id(threshold = 0.8):\n",
        "    '''\n",
        "    get hesitate predicted img ids\n",
        "    '''\n",
        "    img_ids = preds_coco[preds_coco[\"score\"]<threshold].image_id.drop_duplicates().reset_index().image_id\n",
        "    print(\"There are {} images with with a bit hesitation (prob<0.8). Let's study those images!\".format(img_ids.shape[0]))\n",
        "    return img_ids\n",
        "\n",
        "\n",
        "def id2filename(img_ids, ann):\n",
        "    # get img file dir\n",
        "    return pd.DataFrame(img_ids, columns=[\"image_id\"]).merge(ann[[\"image_id\",\"file_name\"]], \n",
        "                                                             how=\"left\", on=\"image_id\").drop_duplicates()\n",
        "\n",
        "\n",
        "def load_wrong_images(images_dir = \"/content/drive/MyDrive/111 Rendered.ai/RarePlanes/datasets/real/test/RarePlanes_test_PS-RGB_tiled.tar.gz (Unzipped Files)/PS-RGB_tiled/\"):\n",
        "    img_collections = []\n",
        "    for f in tqdm(img_dirs.file_name):\n",
        "        im = cv2.imread(images_dir+f)\n",
        "        img_collections.append(im)\n",
        "    img_collections = np.asarray(img_collections)  \n",
        "    print(\"img_collections shape:\",img_collections.shape)\n",
        "    return img_collections\n",
        "\n",
        "ann = get_image_ann()\n",
        "preds_coco = load_preds()\n",
        "img_ids = get_wrong_pred_img_id()\n",
        "img_dirs = id2filename(img_ids, ann)\n",
        "img_collections = load_wrong_images()"
      ],
      "execution_count": 67,
      "outputs": [
        {
          "output_type": "stream",
          "text": [
            "There are 6552 predicted bbox.\n",
            "There are 43 images with with a bit hesitation (prob<0.8). Let's study those images!\n"
          ],
          "name": "stdout"
        },
        {
          "output_type": "display_data",
          "data": {
            "application/vnd.jupyter.widget-view+json": {
              "model_id": "2f4cf824fd2445f8ba6da5b05f20c265",
              "version_minor": 0,
              "version_major": 2
            },
            "text/plain": [
              "HBox(children=(FloatProgress(value=0.0, max=43.0), HTML(value='')))"
            ]
          },
          "metadata": {
            "tags": []
          }
        },
        {
          "output_type": "stream",
          "text": [
            "\n",
            "img_collections shape: (43, 512, 512, 3)\n"
          ],
          "name": "stdout"
        }
      ]
    },
    {
      "cell_type": "markdown",
      "metadata": {
        "id": "1QHaXs_OVV1-"
      },
      "source": [
        "# Localization"
      ]
    },
    {
      "cell_type": "code",
      "metadata": {
        "id": "XozOFU7KZo6A"
      },
      "source": [
        ""
      ],
      "execution_count": null,
      "outputs": []
    }
  ]
}