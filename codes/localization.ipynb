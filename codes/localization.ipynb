{
  "nbformat": 4,
  "nbformat_minor": 0,
  "metadata": {
    "colab": {
      "name": "localization.ipynb",
      "provenance": [],
      "collapsed_sections": [],
      "toc_visible": true,
      "machine_shape": "hm"
    },
    "kernelspec": {
      "name": "python3",
      "display_name": "Python 3"
    },
    "accelerator": "GPU",
    "widgets": {
      "application/vnd.jupyter.widget-state+json": {
        "b4cb51cf8189421882d8b5b9111dc9f4": {
          "model_module": "@jupyter-widgets/controls",
          "model_name": "HBoxModel",
          "state": {
            "_view_name": "HBoxView",
            "_dom_classes": [],
            "_model_name": "HBoxModel",
            "_view_module": "@jupyter-widgets/controls",
            "_model_module_version": "1.5.0",
            "_view_count": null,
            "_view_module_version": "1.5.0",
            "box_style": "",
            "layout": "IPY_MODEL_5f4bc2fc26f54cd39567c1697330f6cd",
            "_model_module": "@jupyter-widgets/controls",
            "children": [
              "IPY_MODEL_e3aa48ad81dc48bb8a88524d5ec68773",
              "IPY_MODEL_7109a449b06643969cd3d5a86578f88e"
            ]
          }
        },
        "5f4bc2fc26f54cd39567c1697330f6cd": {
          "model_module": "@jupyter-widgets/base",
          "model_name": "LayoutModel",
          "state": {
            "_view_name": "LayoutView",
            "grid_template_rows": null,
            "right": null,
            "justify_content": null,
            "_view_module": "@jupyter-widgets/base",
            "overflow": null,
            "_model_module_version": "1.2.0",
            "_view_count": null,
            "flex_flow": null,
            "width": null,
            "min_width": null,
            "border": null,
            "align_items": null,
            "bottom": null,
            "_model_module": "@jupyter-widgets/base",
            "top": null,
            "grid_column": null,
            "overflow_y": null,
            "overflow_x": null,
            "grid_auto_flow": null,
            "grid_area": null,
            "grid_template_columns": null,
            "flex": null,
            "_model_name": "LayoutModel",
            "justify_items": null,
            "grid_row": null,
            "max_height": null,
            "align_content": null,
            "visibility": null,
            "align_self": null,
            "height": null,
            "min_height": null,
            "padding": null,
            "grid_auto_rows": null,
            "grid_gap": null,
            "max_width": null,
            "order": null,
            "_view_module_version": "1.2.0",
            "grid_template_areas": null,
            "object_position": null,
            "object_fit": null,
            "grid_auto_columns": null,
            "margin": null,
            "display": null,
            "left": null
          }
        },
        "e3aa48ad81dc48bb8a88524d5ec68773": {
          "model_module": "@jupyter-widgets/controls",
          "model_name": "FloatProgressModel",
          "state": {
            "_view_name": "ProgressView",
            "style": "IPY_MODEL_b13388ac01794e97a6c979c8a6df9701",
            "_dom_classes": [],
            "description": "100%",
            "_model_name": "FloatProgressModel",
            "bar_style": "success",
            "max": 43,
            "_view_module": "@jupyter-widgets/controls",
            "_model_module_version": "1.5.0",
            "value": 43,
            "_view_count": null,
            "_view_module_version": "1.5.0",
            "orientation": "horizontal",
            "min": 0,
            "description_tooltip": null,
            "_model_module": "@jupyter-widgets/controls",
            "layout": "IPY_MODEL_44630058e07e4732962f101fcd34f9fd"
          }
        },
        "7109a449b06643969cd3d5a86578f88e": {
          "model_module": "@jupyter-widgets/controls",
          "model_name": "HTMLModel",
          "state": {
            "_view_name": "HTMLView",
            "style": "IPY_MODEL_7d5c4e0fb13b474395c4c01cd304c0fb",
            "_dom_classes": [],
            "description": "",
            "_model_name": "HTMLModel",
            "placeholder": "​",
            "_view_module": "@jupyter-widgets/controls",
            "_model_module_version": "1.5.0",
            "value": " 43/43 [00:52&lt;00:00,  1.22s/it]",
            "_view_count": null,
            "_view_module_version": "1.5.0",
            "description_tooltip": null,
            "_model_module": "@jupyter-widgets/controls",
            "layout": "IPY_MODEL_c0428bfd32b44758a84f687fbc63a17d"
          }
        },
        "b13388ac01794e97a6c979c8a6df9701": {
          "model_module": "@jupyter-widgets/controls",
          "model_name": "ProgressStyleModel",
          "state": {
            "_view_name": "StyleView",
            "_model_name": "ProgressStyleModel",
            "description_width": "initial",
            "_view_module": "@jupyter-widgets/base",
            "_model_module_version": "1.5.0",
            "_view_count": null,
            "_view_module_version": "1.2.0",
            "bar_color": null,
            "_model_module": "@jupyter-widgets/controls"
          }
        },
        "44630058e07e4732962f101fcd34f9fd": {
          "model_module": "@jupyter-widgets/base",
          "model_name": "LayoutModel",
          "state": {
            "_view_name": "LayoutView",
            "grid_template_rows": null,
            "right": null,
            "justify_content": null,
            "_view_module": "@jupyter-widgets/base",
            "overflow": null,
            "_model_module_version": "1.2.0",
            "_view_count": null,
            "flex_flow": null,
            "width": null,
            "min_width": null,
            "border": null,
            "align_items": null,
            "bottom": null,
            "_model_module": "@jupyter-widgets/base",
            "top": null,
            "grid_column": null,
            "overflow_y": null,
            "overflow_x": null,
            "grid_auto_flow": null,
            "grid_area": null,
            "grid_template_columns": null,
            "flex": null,
            "_model_name": "LayoutModel",
            "justify_items": null,
            "grid_row": null,
            "max_height": null,
            "align_content": null,
            "visibility": null,
            "align_self": null,
            "height": null,
            "min_height": null,
            "padding": null,
            "grid_auto_rows": null,
            "grid_gap": null,
            "max_width": null,
            "order": null,
            "_view_module_version": "1.2.0",
            "grid_template_areas": null,
            "object_position": null,
            "object_fit": null,
            "grid_auto_columns": null,
            "margin": null,
            "display": null,
            "left": null
          }
        },
        "7d5c4e0fb13b474395c4c01cd304c0fb": {
          "model_module": "@jupyter-widgets/controls",
          "model_name": "DescriptionStyleModel",
          "state": {
            "_view_name": "StyleView",
            "_model_name": "DescriptionStyleModel",
            "description_width": "",
            "_view_module": "@jupyter-widgets/base",
            "_model_module_version": "1.5.0",
            "_view_count": null,
            "_view_module_version": "1.2.0",
            "_model_module": "@jupyter-widgets/controls"
          }
        },
        "c0428bfd32b44758a84f687fbc63a17d": {
          "model_module": "@jupyter-widgets/base",
          "model_name": "LayoutModel",
          "state": {
            "_view_name": "LayoutView",
            "grid_template_rows": null,
            "right": null,
            "justify_content": null,
            "_view_module": "@jupyter-widgets/base",
            "overflow": null,
            "_model_module_version": "1.2.0",
            "_view_count": null,
            "flex_flow": null,
            "width": null,
            "min_width": null,
            "border": null,
            "align_items": null,
            "bottom": null,
            "_model_module": "@jupyter-widgets/base",
            "top": null,
            "grid_column": null,
            "overflow_y": null,
            "overflow_x": null,
            "grid_auto_flow": null,
            "grid_area": null,
            "grid_template_columns": null,
            "flex": null,
            "_model_name": "LayoutModel",
            "justify_items": null,
            "grid_row": null,
            "max_height": null,
            "align_content": null,
            "visibility": null,
            "align_self": null,
            "height": null,
            "min_height": null,
            "padding": null,
            "grid_auto_rows": null,
            "grid_gap": null,
            "max_width": null,
            "order": null,
            "_view_module_version": "1.2.0",
            "grid_template_areas": null,
            "object_position": null,
            "object_fit": null,
            "grid_auto_columns": null,
            "margin": null,
            "display": null,
            "left": null
          }
        },
        "7c0c972a38574b3e9ea79cf4fef3ffb5": {
          "model_module": "@jupyter-widgets/controls",
          "model_name": "HBoxModel",
          "state": {
            "_view_name": "HBoxView",
            "_dom_classes": [],
            "_model_name": "HBoxModel",
            "_view_module": "@jupyter-widgets/controls",
            "_model_module_version": "1.5.0",
            "_view_count": null,
            "_view_module_version": "1.5.0",
            "box_style": "",
            "layout": "IPY_MODEL_669ede9560d34d11b294e2b7cc69a8d2",
            "_model_module": "@jupyter-widgets/controls",
            "children": [
              "IPY_MODEL_bc955c4b75f74ab091abf7104780a898",
              "IPY_MODEL_5119a10eed3f478fba21ca14be52f1fa"
            ]
          }
        },
        "669ede9560d34d11b294e2b7cc69a8d2": {
          "model_module": "@jupyter-widgets/base",
          "model_name": "LayoutModel",
          "state": {
            "_view_name": "LayoutView",
            "grid_template_rows": null,
            "right": null,
            "justify_content": null,
            "_view_module": "@jupyter-widgets/base",
            "overflow": null,
            "_model_module_version": "1.2.0",
            "_view_count": null,
            "flex_flow": null,
            "width": null,
            "min_width": null,
            "border": null,
            "align_items": null,
            "bottom": null,
            "_model_module": "@jupyter-widgets/base",
            "top": null,
            "grid_column": null,
            "overflow_y": null,
            "overflow_x": null,
            "grid_auto_flow": null,
            "grid_area": null,
            "grid_template_columns": null,
            "flex": null,
            "_model_name": "LayoutModel",
            "justify_items": null,
            "grid_row": null,
            "max_height": null,
            "align_content": null,
            "visibility": null,
            "align_self": null,
            "height": null,
            "min_height": null,
            "padding": null,
            "grid_auto_rows": null,
            "grid_gap": null,
            "max_width": null,
            "order": null,
            "_view_module_version": "1.2.0",
            "grid_template_areas": null,
            "object_position": null,
            "object_fit": null,
            "grid_auto_columns": null,
            "margin": null,
            "display": null,
            "left": null
          }
        },
        "bc955c4b75f74ab091abf7104780a898": {
          "model_module": "@jupyter-widgets/controls",
          "model_name": "FloatProgressModel",
          "state": {
            "_view_name": "ProgressView",
            "style": "IPY_MODEL_3767a2f9af084a2f973e30105e526d53",
            "_dom_classes": [],
            "description": "100%",
            "_model_name": "FloatProgressModel",
            "bar_style": "success",
            "max": 43,
            "_view_module": "@jupyter-widgets/controls",
            "_model_module_version": "1.5.0",
            "value": 43,
            "_view_count": null,
            "_view_module_version": "1.5.0",
            "orientation": "horizontal",
            "min": 0,
            "description_tooltip": null,
            "_model_module": "@jupyter-widgets/controls",
            "layout": "IPY_MODEL_b815254eb61b42bcae8c504f22c28c67"
          }
        },
        "5119a10eed3f478fba21ca14be52f1fa": {
          "model_module": "@jupyter-widgets/controls",
          "model_name": "HTMLModel",
          "state": {
            "_view_name": "HTMLView",
            "style": "IPY_MODEL_98dcc3d574b6473fa6353c6f9d168da7",
            "_dom_classes": [],
            "description": "",
            "_model_name": "HTMLModel",
            "placeholder": "​",
            "_view_module": "@jupyter-widgets/controls",
            "_model_module_version": "1.5.0",
            "value": " 43/43 [07:55&lt;00:00, 11.06s/it]",
            "_view_count": null,
            "_view_module_version": "1.5.0",
            "description_tooltip": null,
            "_model_module": "@jupyter-widgets/controls",
            "layout": "IPY_MODEL_9bac8c9682b14b289123b40ef5ac8ba1"
          }
        },
        "3767a2f9af084a2f973e30105e526d53": {
          "model_module": "@jupyter-widgets/controls",
          "model_name": "ProgressStyleModel",
          "state": {
            "_view_name": "StyleView",
            "_model_name": "ProgressStyleModel",
            "description_width": "initial",
            "_view_module": "@jupyter-widgets/base",
            "_model_module_version": "1.5.0",
            "_view_count": null,
            "_view_module_version": "1.2.0",
            "bar_color": null,
            "_model_module": "@jupyter-widgets/controls"
          }
        },
        "b815254eb61b42bcae8c504f22c28c67": {
          "model_module": "@jupyter-widgets/base",
          "model_name": "LayoutModel",
          "state": {
            "_view_name": "LayoutView",
            "grid_template_rows": null,
            "right": null,
            "justify_content": null,
            "_view_module": "@jupyter-widgets/base",
            "overflow": null,
            "_model_module_version": "1.2.0",
            "_view_count": null,
            "flex_flow": null,
            "width": null,
            "min_width": null,
            "border": null,
            "align_items": null,
            "bottom": null,
            "_model_module": "@jupyter-widgets/base",
            "top": null,
            "grid_column": null,
            "overflow_y": null,
            "overflow_x": null,
            "grid_auto_flow": null,
            "grid_area": null,
            "grid_template_columns": null,
            "flex": null,
            "_model_name": "LayoutModel",
            "justify_items": null,
            "grid_row": null,
            "max_height": null,
            "align_content": null,
            "visibility": null,
            "align_self": null,
            "height": null,
            "min_height": null,
            "padding": null,
            "grid_auto_rows": null,
            "grid_gap": null,
            "max_width": null,
            "order": null,
            "_view_module_version": "1.2.0",
            "grid_template_areas": null,
            "object_position": null,
            "object_fit": null,
            "grid_auto_columns": null,
            "margin": null,
            "display": null,
            "left": null
          }
        },
        "98dcc3d574b6473fa6353c6f9d168da7": {
          "model_module": "@jupyter-widgets/controls",
          "model_name": "DescriptionStyleModel",
          "state": {
            "_view_name": "StyleView",
            "_model_name": "DescriptionStyleModel",
            "description_width": "",
            "_view_module": "@jupyter-widgets/base",
            "_model_module_version": "1.5.0",
            "_view_count": null,
            "_view_module_version": "1.2.0",
            "_model_module": "@jupyter-widgets/controls"
          }
        },
        "9bac8c9682b14b289123b40ef5ac8ba1": {
          "model_module": "@jupyter-widgets/base",
          "model_name": "LayoutModel",
          "state": {
            "_view_name": "LayoutView",
            "grid_template_rows": null,
            "right": null,
            "justify_content": null,
            "_view_module": "@jupyter-widgets/base",
            "overflow": null,
            "_model_module_version": "1.2.0",
            "_view_count": null,
            "flex_flow": null,
            "width": null,
            "min_width": null,
            "border": null,
            "align_items": null,
            "bottom": null,
            "_model_module": "@jupyter-widgets/base",
            "top": null,
            "grid_column": null,
            "overflow_y": null,
            "overflow_x": null,
            "grid_auto_flow": null,
            "grid_area": null,
            "grid_template_columns": null,
            "flex": null,
            "_model_name": "LayoutModel",
            "justify_items": null,
            "grid_row": null,
            "max_height": null,
            "align_content": null,
            "visibility": null,
            "align_self": null,
            "height": null,
            "min_height": null,
            "padding": null,
            "grid_auto_rows": null,
            "grid_gap": null,
            "max_width": null,
            "order": null,
            "_view_module_version": "1.2.0",
            "grid_template_areas": null,
            "object_position": null,
            "object_fit": null,
            "grid_auto_columns": null,
            "margin": null,
            "display": null,
            "left": null
          }
        },
        "0ad35fed925641989e62ee6858c40e6b": {
          "model_module": "@jupyter-widgets/controls",
          "model_name": "HBoxModel",
          "state": {
            "_view_name": "HBoxView",
            "_dom_classes": [],
            "_model_name": "HBoxModel",
            "_view_module": "@jupyter-widgets/controls",
            "_model_module_version": "1.5.0",
            "_view_count": null,
            "_view_module_version": "1.5.0",
            "box_style": "",
            "layout": "IPY_MODEL_bf796fb0ceb24790b9914bb67cadad47",
            "_model_module": "@jupyter-widgets/controls",
            "children": [
              "IPY_MODEL_4db2db2c91f6476da1cfb5d5c2678aae",
              "IPY_MODEL_14f05f936ab94d25800f7d040cc9b69e"
            ]
          }
        },
        "bf796fb0ceb24790b9914bb67cadad47": {
          "model_module": "@jupyter-widgets/base",
          "model_name": "LayoutModel",
          "state": {
            "_view_name": "LayoutView",
            "grid_template_rows": null,
            "right": null,
            "justify_content": null,
            "_view_module": "@jupyter-widgets/base",
            "overflow": null,
            "_model_module_version": "1.2.0",
            "_view_count": null,
            "flex_flow": null,
            "width": null,
            "min_width": null,
            "border": null,
            "align_items": null,
            "bottom": null,
            "_model_module": "@jupyter-widgets/base",
            "top": null,
            "grid_column": null,
            "overflow_y": null,
            "overflow_x": null,
            "grid_auto_flow": null,
            "grid_area": null,
            "grid_template_columns": null,
            "flex": null,
            "_model_name": "LayoutModel",
            "justify_items": null,
            "grid_row": null,
            "max_height": null,
            "align_content": null,
            "visibility": null,
            "align_self": null,
            "height": null,
            "min_height": null,
            "padding": null,
            "grid_auto_rows": null,
            "grid_gap": null,
            "max_width": null,
            "order": null,
            "_view_module_version": "1.2.0",
            "grid_template_areas": null,
            "object_position": null,
            "object_fit": null,
            "grid_auto_columns": null,
            "margin": null,
            "display": null,
            "left": null
          }
        },
        "4db2db2c91f6476da1cfb5d5c2678aae": {
          "model_module": "@jupyter-widgets/controls",
          "model_name": "FloatProgressModel",
          "state": {
            "_view_name": "ProgressView",
            "style": "IPY_MODEL_be9dad0e952846159456717d001aed2d",
            "_dom_classes": [],
            "description": "100%",
            "_model_name": "FloatProgressModel",
            "bar_style": "success",
            "max": 43,
            "_view_module": "@jupyter-widgets/controls",
            "_model_module_version": "1.5.0",
            "value": 43,
            "_view_count": null,
            "_view_module_version": "1.5.0",
            "orientation": "horizontal",
            "min": 0,
            "description_tooltip": null,
            "_model_module": "@jupyter-widgets/controls",
            "layout": "IPY_MODEL_309597684981436fbc6b66b98ef18de5"
          }
        },
        "14f05f936ab94d25800f7d040cc9b69e": {
          "model_module": "@jupyter-widgets/controls",
          "model_name": "HTMLModel",
          "state": {
            "_view_name": "HTMLView",
            "style": "IPY_MODEL_b4aa4f8f8372422fb8d36e9bae412db1",
            "_dom_classes": [],
            "description": "",
            "_model_name": "HTMLModel",
            "placeholder": "​",
            "_view_module": "@jupyter-widgets/controls",
            "_model_module_version": "1.5.0",
            "value": " 43/43 [00:47&lt;00:00,  1.11s/it]",
            "_view_count": null,
            "_view_module_version": "1.5.0",
            "description_tooltip": null,
            "_model_module": "@jupyter-widgets/controls",
            "layout": "IPY_MODEL_179985f4d2aa43e9864b312d5e53e8b0"
          }
        },
        "be9dad0e952846159456717d001aed2d": {
          "model_module": "@jupyter-widgets/controls",
          "model_name": "ProgressStyleModel",
          "state": {
            "_view_name": "StyleView",
            "_model_name": "ProgressStyleModel",
            "description_width": "initial",
            "_view_module": "@jupyter-widgets/base",
            "_model_module_version": "1.5.0",
            "_view_count": null,
            "_view_module_version": "1.2.0",
            "bar_color": null,
            "_model_module": "@jupyter-widgets/controls"
          }
        },
        "309597684981436fbc6b66b98ef18de5": {
          "model_module": "@jupyter-widgets/base",
          "model_name": "LayoutModel",
          "state": {
            "_view_name": "LayoutView",
            "grid_template_rows": null,
            "right": null,
            "justify_content": null,
            "_view_module": "@jupyter-widgets/base",
            "overflow": null,
            "_model_module_version": "1.2.0",
            "_view_count": null,
            "flex_flow": null,
            "width": null,
            "min_width": null,
            "border": null,
            "align_items": null,
            "bottom": null,
            "_model_module": "@jupyter-widgets/base",
            "top": null,
            "grid_column": null,
            "overflow_y": null,
            "overflow_x": null,
            "grid_auto_flow": null,
            "grid_area": null,
            "grid_template_columns": null,
            "flex": null,
            "_model_name": "LayoutModel",
            "justify_items": null,
            "grid_row": null,
            "max_height": null,
            "align_content": null,
            "visibility": null,
            "align_self": null,
            "height": null,
            "min_height": null,
            "padding": null,
            "grid_auto_rows": null,
            "grid_gap": null,
            "max_width": null,
            "order": null,
            "_view_module_version": "1.2.0",
            "grid_template_areas": null,
            "object_position": null,
            "object_fit": null,
            "grid_auto_columns": null,
            "margin": null,
            "display": null,
            "left": null
          }
        },
        "b4aa4f8f8372422fb8d36e9bae412db1": {
          "model_module": "@jupyter-widgets/controls",
          "model_name": "DescriptionStyleModel",
          "state": {
            "_view_name": "StyleView",
            "_model_name": "DescriptionStyleModel",
            "description_width": "",
            "_view_module": "@jupyter-widgets/base",
            "_model_module_version": "1.5.0",
            "_view_count": null,
            "_view_module_version": "1.2.0",
            "_model_module": "@jupyter-widgets/controls"
          }
        },
        "179985f4d2aa43e9864b312d5e53e8b0": {
          "model_module": "@jupyter-widgets/base",
          "model_name": "LayoutModel",
          "state": {
            "_view_name": "LayoutView",
            "grid_template_rows": null,
            "right": null,
            "justify_content": null,
            "_view_module": "@jupyter-widgets/base",
            "overflow": null,
            "_model_module_version": "1.2.0",
            "_view_count": null,
            "flex_flow": null,
            "width": null,
            "min_width": null,
            "border": null,
            "align_items": null,
            "bottom": null,
            "_model_module": "@jupyter-widgets/base",
            "top": null,
            "grid_column": null,
            "overflow_y": null,
            "overflow_x": null,
            "grid_auto_flow": null,
            "grid_area": null,
            "grid_template_columns": null,
            "flex": null,
            "_model_name": "LayoutModel",
            "justify_items": null,
            "grid_row": null,
            "max_height": null,
            "align_content": null,
            "visibility": null,
            "align_self": null,
            "height": null,
            "min_height": null,
            "padding": null,
            "grid_auto_rows": null,
            "grid_gap": null,
            "max_width": null,
            "order": null,
            "_view_module_version": "1.2.0",
            "grid_template_areas": null,
            "object_position": null,
            "object_fit": null,
            "grid_auto_columns": null,
            "margin": null,
            "display": null,
            "left": null
          }
        },
        "d44c08e0046c45ce8d4505bd0065483d": {
          "model_module": "@jupyter-widgets/controls",
          "model_name": "HBoxModel",
          "state": {
            "_view_name": "HBoxView",
            "_dom_classes": [],
            "_model_name": "HBoxModel",
            "_view_module": "@jupyter-widgets/controls",
            "_model_module_version": "1.5.0",
            "_view_count": null,
            "_view_module_version": "1.5.0",
            "box_style": "",
            "layout": "IPY_MODEL_82c29d6ee64740bd9a4713cecde3ba82",
            "_model_module": "@jupyter-widgets/controls",
            "children": [
              "IPY_MODEL_475c2d15380740be96240bf90c561dde",
              "IPY_MODEL_4874872f54a443efa1e397e6c7871d74"
            ]
          }
        },
        "82c29d6ee64740bd9a4713cecde3ba82": {
          "model_module": "@jupyter-widgets/base",
          "model_name": "LayoutModel",
          "state": {
            "_view_name": "LayoutView",
            "grid_template_rows": null,
            "right": null,
            "justify_content": null,
            "_view_module": "@jupyter-widgets/base",
            "overflow": null,
            "_model_module_version": "1.2.0",
            "_view_count": null,
            "flex_flow": null,
            "width": null,
            "min_width": null,
            "border": null,
            "align_items": null,
            "bottom": null,
            "_model_module": "@jupyter-widgets/base",
            "top": null,
            "grid_column": null,
            "overflow_y": null,
            "overflow_x": null,
            "grid_auto_flow": null,
            "grid_area": null,
            "grid_template_columns": null,
            "flex": null,
            "_model_name": "LayoutModel",
            "justify_items": null,
            "grid_row": null,
            "max_height": null,
            "align_content": null,
            "visibility": null,
            "align_self": null,
            "height": null,
            "min_height": null,
            "padding": null,
            "grid_auto_rows": null,
            "grid_gap": null,
            "max_width": null,
            "order": null,
            "_view_module_version": "1.2.0",
            "grid_template_areas": null,
            "object_position": null,
            "object_fit": null,
            "grid_auto_columns": null,
            "margin": null,
            "display": null,
            "left": null
          }
        },
        "475c2d15380740be96240bf90c561dde": {
          "model_module": "@jupyter-widgets/controls",
          "model_name": "FloatProgressModel",
          "state": {
            "_view_name": "ProgressView",
            "style": "IPY_MODEL_bdaa61f3a3e7421d88805bd8d86803db",
            "_dom_classes": [],
            "description": "100%",
            "_model_name": "FloatProgressModel",
            "bar_style": "success",
            "max": 43,
            "_view_module": "@jupyter-widgets/controls",
            "_model_module_version": "1.5.0",
            "value": 43,
            "_view_count": null,
            "_view_module_version": "1.5.0",
            "orientation": "horizontal",
            "min": 0,
            "description_tooltip": null,
            "_model_module": "@jupyter-widgets/controls",
            "layout": "IPY_MODEL_70db771b9cc54b48be381b97bdb82596"
          }
        },
        "4874872f54a443efa1e397e6c7871d74": {
          "model_module": "@jupyter-widgets/controls",
          "model_name": "HTMLModel",
          "state": {
            "_view_name": "HTMLView",
            "style": "IPY_MODEL_8b8d899c56134552a86d4dd12d7d905a",
            "_dom_classes": [],
            "description": "",
            "_model_name": "HTMLModel",
            "placeholder": "​",
            "_view_module": "@jupyter-widgets/controls",
            "_model_module_version": "1.5.0",
            "value": " 43/43 [01:46&lt;00:00,  2.49s/it]",
            "_view_count": null,
            "_view_module_version": "1.5.0",
            "description_tooltip": null,
            "_model_module": "@jupyter-widgets/controls",
            "layout": "IPY_MODEL_baf2f9a2ebcf4d6fa4bbafac6c1c476f"
          }
        },
        "bdaa61f3a3e7421d88805bd8d86803db": {
          "model_module": "@jupyter-widgets/controls",
          "model_name": "ProgressStyleModel",
          "state": {
            "_view_name": "StyleView",
            "_model_name": "ProgressStyleModel",
            "description_width": "initial",
            "_view_module": "@jupyter-widgets/base",
            "_model_module_version": "1.5.0",
            "_view_count": null,
            "_view_module_version": "1.2.0",
            "bar_color": null,
            "_model_module": "@jupyter-widgets/controls"
          }
        },
        "70db771b9cc54b48be381b97bdb82596": {
          "model_module": "@jupyter-widgets/base",
          "model_name": "LayoutModel",
          "state": {
            "_view_name": "LayoutView",
            "grid_template_rows": null,
            "right": null,
            "justify_content": null,
            "_view_module": "@jupyter-widgets/base",
            "overflow": null,
            "_model_module_version": "1.2.0",
            "_view_count": null,
            "flex_flow": null,
            "width": null,
            "min_width": null,
            "border": null,
            "align_items": null,
            "bottom": null,
            "_model_module": "@jupyter-widgets/base",
            "top": null,
            "grid_column": null,
            "overflow_y": null,
            "overflow_x": null,
            "grid_auto_flow": null,
            "grid_area": null,
            "grid_template_columns": null,
            "flex": null,
            "_model_name": "LayoutModel",
            "justify_items": null,
            "grid_row": null,
            "max_height": null,
            "align_content": null,
            "visibility": null,
            "align_self": null,
            "height": null,
            "min_height": null,
            "padding": null,
            "grid_auto_rows": null,
            "grid_gap": null,
            "max_width": null,
            "order": null,
            "_view_module_version": "1.2.0",
            "grid_template_areas": null,
            "object_position": null,
            "object_fit": null,
            "grid_auto_columns": null,
            "margin": null,
            "display": null,
            "left": null
          }
        },
        "8b8d899c56134552a86d4dd12d7d905a": {
          "model_module": "@jupyter-widgets/controls",
          "model_name": "DescriptionStyleModel",
          "state": {
            "_view_name": "StyleView",
            "_model_name": "DescriptionStyleModel",
            "description_width": "",
            "_view_module": "@jupyter-widgets/base",
            "_model_module_version": "1.5.0",
            "_view_count": null,
            "_view_module_version": "1.2.0",
            "_model_module": "@jupyter-widgets/controls"
          }
        },
        "baf2f9a2ebcf4d6fa4bbafac6c1c476f": {
          "model_module": "@jupyter-widgets/base",
          "model_name": "LayoutModel",
          "state": {
            "_view_name": "LayoutView",
            "grid_template_rows": null,
            "right": null,
            "justify_content": null,
            "_view_module": "@jupyter-widgets/base",
            "overflow": null,
            "_model_module_version": "1.2.0",
            "_view_count": null,
            "flex_flow": null,
            "width": null,
            "min_width": null,
            "border": null,
            "align_items": null,
            "bottom": null,
            "_model_module": "@jupyter-widgets/base",
            "top": null,
            "grid_column": null,
            "overflow_y": null,
            "overflow_x": null,
            "grid_auto_flow": null,
            "grid_area": null,
            "grid_template_columns": null,
            "flex": null,
            "_model_name": "LayoutModel",
            "justify_items": null,
            "grid_row": null,
            "max_height": null,
            "align_content": null,
            "visibility": null,
            "align_self": null,
            "height": null,
            "min_height": null,
            "padding": null,
            "grid_auto_rows": null,
            "grid_gap": null,
            "max_width": null,
            "order": null,
            "_view_module_version": "1.2.0",
            "grid_template_areas": null,
            "object_position": null,
            "object_fit": null,
            "grid_auto_columns": null,
            "margin": null,
            "display": null,
            "left": null
          }
        }
      }
    }
  },
  "cells": [
    {
      "cell_type": "markdown",
      "metadata": {
        "id": "h3ehluB20_-H"
      },
      "source": [
        "# Summary\n",
        "\n",
        "In this notebook, I play with the pre-trained model: Faster RCNN. (Procedure is the same for Mask RCNN) we used Detectron2 lib, which is FAIR's next-generation platform for object detection and segmentation.\n",
        "\n",
        "## Contents\n",
        "\n",
        "1. load data and the pretrained model.\n",
        "2. produce saliency maps:\n",
        "\n",
        "*    Spatial attention map\n",
        "*    Feature Map \n",
        "*    Objectness Logit map\n",
        "*    CAM (not successful)\n",
        "\n",
        "## References\n",
        "1. detectron2: https://github.com/facebookresearch/detectron2\n",
        "2. documentation: https://detectron2.readthedocs.io/tutorials/getting_started.html\n",
        "2. rareplane dataset: https://github.com/aireveries/RarePlanes"
      ]
    },
    {
      "cell_type": "markdown",
      "metadata": {
        "id": "vM54r6jlKTII"
      },
      "source": [
        "# Install detectron2"
      ]
    },
    {
      "cell_type": "code",
      "metadata": {
        "id": "9_FzH13EjseR"
      },
      "source": [
        "# install dependencies: \n",
        "!pip install pyyaml==5.1 'pycocotools>=2.0.1'\n",
        "!pip install torch==1.6.0+cu101 torchvision==0.7.0+cu101 -f https://download.pytorch.org/whl/torch_stable.html\n",
        "\n",
        "import torch, torchvision\n",
        "print(torch.__version__, torch.cuda.is_available())\n",
        "!gcc --version\n",
        "# opencv is pre-installed on colab"
      ],
      "execution_count": null,
      "outputs": []
    },
    {
      "cell_type": "code",
      "metadata": {
        "id": "b-i4hmGYk1dL"
      },
      "source": [
        "# install detectron2: (Colab has CUDA 10.1 + torch 1.6)\n",
        "# See https://detectron2.readthedocs.io/tutorials/install.html for instructions\n",
        "assert torch.__version__.startswith(\"1.6\")\n",
        "!pip install detectron2 -f https://dl.fbaipublicfiles.com/detectron2/wheels/cu101/torch1.6/index.html"
      ],
      "execution_count": null,
      "outputs": []
    },
    {
      "cell_type": "markdown",
      "metadata": {
        "id": "mGvuh6Vrb1oa"
      },
      "source": [
        "# Import Packages"
      ]
    },
    {
      "cell_type": "code",
      "metadata": {
        "id": "M-QOl9bdb1HJ"
      },
      "source": [
        "from detectron2.modeling import build_model"
      ],
      "execution_count": null,
      "outputs": []
    },
    {
      "cell_type": "code",
      "metadata": {
        "id": "ZyAvNCJMmvFF"
      },
      "source": [
        "# Some basic setup:\n",
        "# Setup detectron2 logger\n",
        "import detectron2\n",
        "from detectron2.utils.logger import setup_logger\n",
        "setup_logger()\n",
        "\n",
        "# import some common libraries\n",
        "import numpy as np\n",
        "import os, json, cv2, random\n",
        "from google.colab.patches import cv2_imshow\n",
        "\n",
        "# import some common detectron2 utilities\n",
        "from detectron2 import model_zoo\n",
        "from detectron2.engine import DefaultPredictor\n",
        "from detectron2.config import get_cfg\n",
        "from detectron2.utils.visualizer import Visualizer\n",
        "from detectron2.data import MetadataCatalog, DatasetCatalog\n",
        "from detectron2.modeling import build_model"
      ],
      "execution_count": null,
      "outputs": []
    },
    {
      "cell_type": "code",
      "metadata": {
        "id": "LQ5hzm9USqvI"
      },
      "source": [
        "import torch \n",
        "import torchvision\n",
        "import torch.nn as nn \n",
        "from IPython.display import Image \n",
        "from torchvision import transforms\n",
        "import matplotlib.pyplot as plt\n",
        "import random\n",
        "from torch.utils.data import DataLoader\n",
        "from tqdm.auto import tqdm\n",
        "device = torch.device(\"cuda\" if torch.cuda.is_available() else \"cpu\")\n",
        "seed = 12345\n",
        "random.seed(seed)\n",
        "torch.manual_seed(seed)\n",
        "import PIL\n",
        "import requests\n",
        "from torchvision.models._utils import IntermediateLayerGetter"
      ],
      "execution_count": null,
      "outputs": []
    },
    {
      "cell_type": "code",
      "metadata": {
        "id": "eFl_Qxgb6Wgy"
      },
      "source": [
        "import json\n",
        "import pandas as pd\n",
        "import math\n",
        "from tqdm import tqdm \n",
        "import cv2\n",
        "import numpy as np\n",
        "import os\n",
        "\n",
        "import torch \n",
        "import torchvision\n",
        "import torch.nn as nn \n",
        "from IPython.display import Image \n",
        "from torchvision import transforms\n",
        "import matplotlib.pyplot as plt\n",
        "import random\n",
        "from torch.utils.data import DataLoader\n",
        "from tqdm.auto import tqdm\n",
        "device = torch.device(\"cuda\" if torch.cuda.is_available() else \"cpu\")\n",
        "seed = 12345\n",
        "random.seed(seed)\n",
        "torch.manual_seed(seed)\n",
        "import PIL\n",
        "import requests\n",
        "from PIL import Image\n",
        "  \n",
        "from sklearn import decomposition    \n",
        "from sklearn.preprocessing import MinMaxScaler"
      ],
      "execution_count": null,
      "outputs": []
    },
    {
      "cell_type": "markdown",
      "metadata": {
        "id": "bqdgr98kVNjE"
      },
      "source": [
        "# Load Data\n",
        "\n",
        "These images should be wrongly predicted images.\n",
        "Since I don't yet know how to get wrongly predicted images, I just used the predictions with less than 0.8 probabilities."
      ]
    },
    {
      "cell_type": "code",
      "metadata": {
        "colab": {
          "base_uri": "https://localhost:8080/",
          "height": 118,
          "referenced_widgets": [
            "b4cb51cf8189421882d8b5b9111dc9f4",
            "5f4bc2fc26f54cd39567c1697330f6cd",
            "e3aa48ad81dc48bb8a88524d5ec68773",
            "7109a449b06643969cd3d5a86578f88e",
            "b13388ac01794e97a6c979c8a6df9701",
            "44630058e07e4732962f101fcd34f9fd",
            "7d5c4e0fb13b474395c4c01cd304c0fb",
            "c0428bfd32b44758a84f687fbc63a17d"
          ]
        },
        "id": "qW0aj7lINQiH",
        "outputId": "f2b5a171-b2a8-4b38-c92e-99913f7815fb"
      },
      "source": [
        "def load_preds():\n",
        "    '''\n",
        "    load wrong predictions on real data\n",
        "    '''\n",
        "    coco_dir = \"/content/drive/MyDrive/111 Rendered.ai/RarePlanes/output/coco_instances_results.json\"\n",
        "    images_dir = \"/content/drive/MyDrive/111 Rendered.ai/RarePlanes/datasets/synthetic/test/images/\"\n",
        "    test_json_dir = coco_dir\n",
        "    with open(test_json_dir) as json_file:\n",
        "        preds_coco = json.load(json_file)\n",
        "    preds_coco = pd.DataFrame(preds_coco)\n",
        "    print(\"There are {} predicted bbox.\".format(preds_coco.shape[0]))\n",
        "    return preds_coco\n",
        "\n",
        "\n",
        "def get_image_ann():\n",
        "    '''\n",
        "    load image annotations\n",
        "    '''\n",
        "    coco_dir = \"/content/drive/MyDrive/111 Rendered.ai/RarePlanes/datasets/coco_data/aircraft_real_test_coco.json\"\n",
        "    images_dir = \"/content/drive/MyDrive/111 Rendered.ai/RarePlanes/datasets/real/test/RarePlanes_test_PS-RGB_tiled.tar.gz (Unzipped Files)/PS-RGB_tiled\"\n",
        "    test_json_dir = coco_dir\n",
        "    with open(test_json_dir) as json_file:\n",
        "        test_coco = json.load(json_file)\n",
        "    img_list = pd.DataFrame(test_coco['images'])\n",
        "    annotations = pd.DataFrame(test_coco['annotations'])\n",
        "    ann = annotations.merge(img_list, how='left', left_on=\"image_id\", right_on=\"id\")\n",
        "    return ann\n",
        "\n",
        "\n",
        "def get_wrong_pred_img_id(threshold = 0.8):\n",
        "    '''\n",
        "    get hesitate predicted img ids\n",
        "    '''\n",
        "    img_ids = preds_coco[preds_coco[\"score\"]<threshold].image_id.drop_duplicates().reset_index().image_id\n",
        "    print(\"There are {} images with with a bit hesitation (prob<0.8). Let's study those images!\".format(img_ids.shape[0]))\n",
        "    return img_ids\n",
        "\n",
        "\n",
        "def id2filename(img_ids, ann):\n",
        "    # get img file dir\n",
        "    return pd.DataFrame(img_ids, columns=[\"image_id\"]).merge(ann[[\"image_id\",\"file_name\"]], \n",
        "                                                             how=\"left\", on=\"image_id\").drop_duplicates()\n",
        "\n",
        "\n",
        "def load_wrong_images():\n",
        "    images_dir = \"/content/drive/MyDrive/111 Rendered.ai/RarePlanes/datasets/real/test/RarePlanes_test_PS-RGB_tiled.tar.gz (Unzipped Files)/PS-RGB_tiled/\"\n",
        "    img_collections = []\n",
        "    for f in tqdm(img_dirs.file_name):\n",
        "        im = cv2.imread(images_dir+f)\n",
        "        img_collections.append(im)\n",
        "    img_collections = np.asarray(img_collections)  \n",
        "    print(\"img_collections shape:\",img_collections.shape)\n",
        "    return img_collections\n",
        "\n",
        "ann = get_image_ann()\n",
        "preds_coco = load_preds()\n",
        "img_ids = get_wrong_pred_img_id()\n",
        "img_dirs = id2filename(img_ids, ann)\n",
        "img_collections = load_wrong_images()"
      ],
      "execution_count": null,
      "outputs": [
        {
          "output_type": "stream",
          "text": [
            "There are 6552 predicted bbox.\n",
            "There are 43 images with with a bit hesitation (prob<0.8). Let's study those images!\n"
          ],
          "name": "stdout"
        },
        {
          "output_type": "display_data",
          "data": {
            "application/vnd.jupyter.widget-view+json": {
              "model_id": "b4cb51cf8189421882d8b5b9111dc9f4",
              "version_minor": 0,
              "version_major": 2
            },
            "text/plain": [
              "HBox(children=(FloatProgress(value=0.0, max=43.0), HTML(value='')))"
            ]
          },
          "metadata": {
            "tags": []
          }
        },
        {
          "output_type": "stream",
          "text": [
            "\n",
            "img_collections shape: (43, 512, 512, 3)\n"
          ],
          "name": "stdout"
        }
      ]
    },
    {
      "cell_type": "code",
      "metadata": {
        "id": "KPv_lncASFOP"
      },
      "source": [
        "imagenet_transform = transforms.Compose([\n",
        "            transforms.ToTensor(),\n",
        "            transforms.Normalize(mean=[0.485, 0.456, 0.406],\n",
        "                                     std=[0.229, 0.224, 0.225]),])"
      ],
      "execution_count": null,
      "outputs": []
    },
    {
      "cell_type": "markdown",
      "metadata": {
        "id": "Y7gfh6INAu0p"
      },
      "source": [
        "# Load the pretrained model \n",
        "\n",
        "from RarePlane: https://github.com/aireveries/RarePlanes"
      ]
    },
    {
      "cell_type": "code",
      "metadata": {
        "id": "jEgJ0FLdRPxW"
      },
      "source": [
        "cfg = get_cfg()\n",
        "# add project-specific config (e.g., TensorMask) here if you're not running a model in detectron2's core library\n",
        "cfg.merge_from_file(model_zoo.get_config_file(\"COCO-Detection/faster_rcnn_R_50_FPN_1x.yaml\"))\n",
        "cfg.MODEL.ROI_HEADS.SCORE_THRESH_TEST = 0.5  # set threshold for this model\n",
        "# Find a model from detectron2's model zoo. You can use the https://dl.fbaipublicfiles... url as well\n",
        "cfg.MODEL.WEIGHTS = \"/content/drive/My Drive/111 Rendered.ai/rareplane_models/model_0043999.pth\"\n",
        "model = build_model(cfg)"
      ],
      "execution_count": null,
      "outputs": []
    },
    {
      "cell_type": "code",
      "metadata": {
        "id": "GH4rYDJISDJZ"
      },
      "source": [
        "# print(model)"
      ],
      "execution_count": null,
      "outputs": []
    },
    {
      "cell_type": "markdown",
      "metadata": {
        "id": "rbYIx9hGDYw8"
      },
      "source": [
        "# 1. Spatial Attention Map/Feature Map\n",
        "\n",
        "Attention paper: https://arxiv.org/abs/1612.03928 "
      ]
    },
    {
      "cell_type": "code",
      "metadata": {
        "id": "DeigC0l69vsp"
      },
      "source": [
        "def attention_map(X, fast_rcnn, power=2):\n",
        "    \"\"\"\n",
        "    Generate a localisation map for the predicted class given an input \n",
        "    image and a pretrained CNN\n",
        "    \n",
        "    Inputs:\n",
        "    - X: Input image: synthetic data, Size of input torch.Size([1, 3, 512, 512])\n",
        "    - fast_rcnn: Pretrained Fast RCNN on real data\n",
        "    \n",
        "    Returns:\n",
        "    - localisation_maps : spatial attention map from FPN(feature pyramid network), p2-p6\n",
        "    \"\"\"\n",
        "    fast_rcnn.eval()\n",
        "    feature_map = fast_rcnn.backbone(X)\n",
        "    localisation_maps = []\n",
        "    for i in range(2,7):\n",
        "        pi = feature_map[\"p\"+str(i)]\n",
        "        att_pi = pi.pow(power).mean(1)\n",
        "        localisation_maps.append(att_pi)\n",
        "    return np.asarray(localisation_maps)\n",
        "\n",
        "\n",
        "def localisation(X, fast_rcnn):\n",
        "    \"\"\"\n",
        "    Generate a localisation map for the predicted class given an input \n",
        "    image and a pretrained CNN\n",
        "    \n",
        "    Inputs:\n",
        "    - X: Input image: synthetic data, Size of input torch.Size([1, 3, 512, 512])\n",
        "    - fast_rcnn: Pretrained Fast RCNN on real data\n",
        "    \n",
        "    Returns:\n",
        "    - localisation_map : feature map from FPN(feature pyramid network), p2-p6\n",
        "    \"\"\"\n",
        "    fast_rcnn.eval()\n",
        "    feature_map = fast_rcnn.backbone(X)\n",
        "    localisation_maps = []\n",
        "    for i in range(2,7):\n",
        "        feature_map_pi = feature_map[\"p\"+str(i)]\n",
        "        map = feature_map_pi.mean(1)\n",
        "        localisation_maps.append(map)\n",
        "    return np.asarray(localisation_maps)\n",
        "\n",
        "\n",
        "def objectness_logit_map(X, fast_rcnn):\n",
        "    fast_rcnn.eval()\n",
        "    feature_map = fast_rcnn.backbone(X)\n",
        "    objectness_logit_maps = []\n",
        "    for i in range(2,7):\n",
        "        feature_map_pi = feature_map[\"p\"+str(i)]\n",
        "        out = fast_rcnn.proposal_generator.rpn_head.conv(feature_map_pi)\n",
        "        # print(out.shape)\n",
        "        out = fast_rcnn.proposal_generator.rpn_head.objectness_logits(out)\n",
        "        # print(out.shape)\n",
        "        sigmoid_fn = nn.Sigmoid()\n",
        "        out = sigmoid_fn(out)\n",
        "        map = out[0]\n",
        "        objectness_logit_maps.append(map)\n",
        "    return np.asarray(objectness_logit_maps)\n",
        "\n",
        "\n",
        "def plotting(localization_maps, map_name):\n",
        "    f, axarr = plt.subplots(1,5,figsize=(17,17))\n",
        "    for i, map in enumerate(localization_maps):\n",
        "        axarr[i].imshow(map[0].cpu().detach().numpy())\n",
        "        axarr[i].set_title(str(map_name)+ \" map of p\"+str(i+2))\n",
        "\n",
        "\n",
        "def upsampling(p_i, local_maps, upsampling_mode='nearest'):\n",
        "    \"\"\"\n",
        "    Input:\n",
        "    p_i: which pyramid in the FPN\n",
        "    local_maps: a list of local_maps, which contains feature maps from p2 to p6.\n",
        "    upsampling_mode: which upsampling method you choose from nn.upsample. default is 'nearest'.\n",
        "    \"\"\"\n",
        "    p_i_to_scale_factor = {0:4, 1:8, 2:16, 3:32, 4:64}\n",
        "    input = local_maps[p_i].view(1,local_maps[p_i].shape[0],local_maps[p_i].shape[1],-1)\n",
        "    upsampler = nn.Upsample(scale_factor=p_i_to_scale_factor[p_i], mode='nearest')\n",
        "    out = upsampler(input)\n",
        "    return out\n",
        "\n",
        "\n",
        "def overlay_heatmap(local_map, image, alpha=0.7, colormap=cv2.COLORMAP_JET):\n",
        "    \"\"\"\n",
        "    Input:\n",
        "    local_map: upsampled localization map size (512,512)\n",
        "    image: orginial image (512, 512, 3) from cv2.imread()\n",
        "    alpha: weights of activation map vs orginal image\n",
        "    colormap: you choose whatever you like\n",
        "    \"\"\"\n",
        "    # normalization\n",
        "    heatmap = (local_map -local_map.min()) / (local_map.max()-local_map.min())\n",
        "    # apply the supplied color map to the heatmap \n",
        "    CAM = cv2.applyColorMap(np.uint8(255 * heatmap), colormap)\n",
        "    # overlay the heatmap on the input image\n",
        "    output = cv2.addWeighted(image, alpha, CAM, 1 - alpha, 0)\n",
        "    # plot the output\n",
        "    # f, axarr = plt.subplots(1,3,figsize=(15,15))\n",
        "    # axarr[0].imshow(local_map)\n",
        "    # axarr[0].set_title(\"local map\")\n",
        "    # axarr[1].imshow(heatmap)\n",
        "    # axarr[1].set_title('Nomalized Heatmap')\n",
        "    # axarr[2].imshow(output)\n",
        "    # plt.title('Activation Map')\n",
        "    return (heatmap, output)"
      ],
      "execution_count": null,
      "outputs": []
    },
    {
      "cell_type": "markdown",
      "metadata": {
        "id": "H04jjfaxwKj-"
      },
      "source": [
        "Attention maps"
      ]
    },
    {
      "cell_type": "code",
      "metadata": {
        "id": "-ZQgkrQGLc0v",
        "colab": {
          "base_uri": "https://localhost:8080/",
          "height": 66,
          "referenced_widgets": [
            "7c0c972a38574b3e9ea79cf4fef3ffb5",
            "669ede9560d34d11b294e2b7cc69a8d2",
            "bc955c4b75f74ab091abf7104780a898",
            "5119a10eed3f478fba21ca14be52f1fa",
            "3767a2f9af084a2f973e30105e526d53",
            "b815254eb61b42bcae8c504f22c28c67",
            "98dcc3d574b6473fa6353c6f9d168da7",
            "9bac8c9682b14b289123b40ef5ac8ba1"
          ]
        },
        "outputId": "e00ef33e-e3a3-4d92-f124-c8200ff57f77"
      },
      "source": [
        "# send both the model to gpu\n",
        "fast_rcnn = model.to(device)\n",
        "\n",
        "n_imgs = img_collections.shape[0]\n",
        "for i in tqdm(range(n_imgs)):\n",
        "    im = img_collections[i]\n",
        "    # send data to gpu\n",
        "    X = imagenet_transform(im).unsqueeze(0).to(device)\n",
        "    attention_maps = attention_map(X, fast_rcnn)\n",
        "    for fpn_layer in range(5):\n",
        "        att = upsampling(fpn_layer, attention_maps, upsampling_mode='nearest')\n",
        "        att = att.cpu().detach().numpy()[0][0]\n",
        "        (heatmap, output) = overlay_heatmap(att, im, alpha=0.75)\n",
        "        # save as numpy arr\n",
        "        output_name = \"att_map_\"+str(i)+\"_fpn_layer=\"+str(fpn_layer+2)\n",
        "        npy_dir = \"/content/drive/MyDrive/111 Rendered.ai/output/attention_map/hesitate_predictions(<0.8)/images/\"\n",
        "        np.save(npy_dir+output_name, output)\n",
        "        # save a jpg\n",
        "        jpg_dir = \"/content/drive/MyDrive/111 Rendered.ai/output/attention_map/hesitate_predictions(<0.8)/npy_arr/\"\n",
        "        Image.fromarray(output).save(jpg_dir+output_name+\".jpeg\")"
      ],
      "execution_count": null,
      "outputs": [
        {
          "output_type": "display_data",
          "data": {
            "application/vnd.jupyter.widget-view+json": {
              "model_id": "7c0c972a38574b3e9ea79cf4fef3ffb5",
              "version_minor": 0,
              "version_major": 2
            },
            "text/plain": [
              "HBox(children=(FloatProgress(value=0.0, max=43.0), HTML(value='')))"
            ]
          },
          "metadata": {
            "tags": []
          }
        },
        {
          "output_type": "stream",
          "text": [
            "\n"
          ],
          "name": "stdout"
        }
      ]
    },
    {
      "cell_type": "markdown",
      "metadata": {
        "id": "1gUIBbDVwJ4M"
      },
      "source": [
        "Feature maps"
      ]
    },
    {
      "cell_type": "code",
      "metadata": {
        "id": "RggkL6IrV1T5",
        "colab": {
          "base_uri": "https://localhost:8080/",
          "height": 66,
          "referenced_widgets": [
            "0ad35fed925641989e62ee6858c40e6b",
            "bf796fb0ceb24790b9914bb67cadad47",
            "4db2db2c91f6476da1cfb5d5c2678aae",
            "14f05f936ab94d25800f7d040cc9b69e",
            "be9dad0e952846159456717d001aed2d",
            "309597684981436fbc6b66b98ef18de5",
            "b4aa4f8f8372422fb8d36e9bae412db1",
            "179985f4d2aa43e9864b312d5e53e8b0"
          ]
        },
        "outputId": "cbeaa4a2-1623-4290-ea02-d22e0e07676c"
      },
      "source": [
        "# send both the model to gpu\n",
        "fast_rcnn = model.to(device)\n",
        "\n",
        "n_imgs = img_collections.shape[0]\n",
        "for i in tqdm(range(n_imgs)):\n",
        "    im = img_collections[i]\n",
        "    # send data to gpu\n",
        "    X = imagenet_transform(im).unsqueeze(0).to(device)\n",
        "    # plot feature maps\n",
        "    feature_maps = localisation(X, fast_rcnn)\n",
        "    for fpn_layer in range(5):\n",
        "        map = upsampling(fpn_layer, feature_maps, upsampling_mode='nearest')\n",
        "        map = map.cpu().detach().numpy()[0][0]\n",
        "        (heatmap, output) = overlay_heatmap(map, im, alpha=0.75)\n",
        "        # save as numpy arr\n",
        "        output_name = \"feature_map_\"+str(i)+\"_fpn_layer=\"+str(fpn_layer+2)\n",
        "        npy_dir = \"/content/drive/MyDrive/111 Rendered.ai/output/feature_map/hesitate_predictions(<0.8)/npy_arr/\"\n",
        "        np.save(npy_dir+output_name, output)\n",
        "        # save a jpg\n",
        "        jpg_dir = \"/content/drive/MyDrive/111 Rendered.ai/output/feature_map/hesitate_predictions(<0.8)/images/\"\n",
        "        Image.fromarray(output).save(jpg_dir+output_name+\".jpeg\")"
      ],
      "execution_count": null,
      "outputs": [
        {
          "output_type": "display_data",
          "data": {
            "application/vnd.jupyter.widget-view+json": {
              "model_id": "0ad35fed925641989e62ee6858c40e6b",
              "version_minor": 0,
              "version_major": 2
            },
            "text/plain": [
              "HBox(children=(FloatProgress(value=0.0, max=43.0), HTML(value='')))"
            ]
          },
          "metadata": {
            "tags": []
          }
        },
        {
          "output_type": "stream",
          "text": [
            "\n"
          ],
          "name": "stdout"
        }
      ]
    },
    {
      "cell_type": "markdown",
      "metadata": {
        "id": "8FdF1MErVFcU"
      },
      "source": [
        "# 2. Objectness logits map"
      ]
    },
    {
      "cell_type": "code",
      "metadata": {
        "colab": {
          "base_uri": "https://localhost:8080/",
          "height": 66,
          "referenced_widgets": [
            "d44c08e0046c45ce8d4505bd0065483d",
            "82c29d6ee64740bd9a4713cecde3ba82",
            "475c2d15380740be96240bf90c561dde",
            "4874872f54a443efa1e397e6c7871d74",
            "bdaa61f3a3e7421d88805bd8d86803db",
            "70db771b9cc54b48be381b97bdb82596",
            "8b8d899c56134552a86d4dd12d7d905a",
            "baf2f9a2ebcf4d6fa4bbafac6c1c476f"
          ]
        },
        "id": "vsrLVwNPzaR1",
        "outputId": "697203c6-a78f-4906-b8b1-544fda848039"
      },
      "source": [
        "# send both the model to gpu\n",
        "fast_rcnn = model.to(device)\n",
        "\n",
        "n_imgs = img_collections.shape[0]\n",
        "for i in tqdm(range(n_imgs)):\n",
        "    im = img_collections[i]\n",
        "    # send data to gpu\n",
        "    X = imagenet_transform(im).unsqueeze(0).to(device)\n",
        "    # plot feature maps\n",
        "    feature_maps = objectness_logit_map(X, fast_rcnn)\n",
        "    for fpn_layer in range(5):\n",
        "        map = upsampling(fpn_layer, feature_maps, upsampling_mode='nearest')\n",
        "        map = map[0].permute(1,2,0).cpu().detach().numpy()\n",
        "        (heatmap, output) = overlay_heatmap(map, im, alpha=0.75)\n",
        "        # plt.imshow(output);plt.show()\n",
        "        # save as numpy arr\n",
        "        output_name = \"objectness_logit_map_\"+str(i)+\"_fpn_layer=\"+str(fpn_layer+2)\n",
        "        npy_dir = \"/content/drive/MyDrive/111 Rendered.ai/output/objectiveness_logit_map/hesitate_predictions(<0.8)/npy_arr/\"\n",
        "        np.save(npy_dir+output_name, output)\n",
        "        # save a jpg\n",
        "        jpg_dir = \"/content/drive/MyDrive/111 Rendered.ai/output/objectiveness_logit_map/hesitate_predictions(<0.8)/images/\"\n",
        "        Image.fromarray(output).save(jpg_dir+output_name+\".jpeg\")"
      ],
      "execution_count": null,
      "outputs": [
        {
          "output_type": "display_data",
          "data": {
            "application/vnd.jupyter.widget-view+json": {
              "model_id": "d44c08e0046c45ce8d4505bd0065483d",
              "version_minor": 0,
              "version_major": 2
            },
            "text/plain": [
              "HBox(children=(FloatProgress(value=0.0, max=43.0), HTML(value='')))"
            ]
          },
          "metadata": {
            "tags": []
          }
        },
        {
          "output_type": "stream",
          "text": [
            "\n"
          ],
          "name": "stdout"
        }
      ]
    },
    {
      "cell_type": "code",
      "metadata": {
        "id": "P9KtK0ixVQSj"
      },
      "source": [
        "def plot_objectness_logit_map(X):\n",
        "    fast_rcnn.eval()\n",
        "    feature_map = fast_rcnn.backbone(X)\n",
        "    f, axarr = plt.subplots(1,5, figsize=(15,15))\n",
        "    for i in range(2,7):\n",
        "        feature_map_pi = feature_map[\"p\"+str(i)]\n",
        "        # print(feature_map_pi.shape)\n",
        "        out = fast_rcnn.proposal_generator.rpn_head.conv(feature_map_pi)\n",
        "        # print(out.shape)\n",
        "        out = fast_rcnn.proposal_generator.rpn_head.objectness_logits(out)\n",
        "        # print(out.shape)\n",
        "        sigmoid_fn = nn.Sigmoid()\n",
        "        out = sigmoid_fn(out)\n",
        "        out = out[0].permute(1,2,0)\n",
        "        out_ = out.cpu().detach().numpy()\n",
        "        # print(out_.shape)\n",
        "        axarr[i-2].imshow(out_)\n",
        "        axarr[i-2].set_title(\"objectness on p\"+str(i))"
      ],
      "execution_count": null,
      "outputs": []
    },
    {
      "cell_type": "code",
      "metadata": {
        "colab": {
          "base_uri": "https://localhost:8080/",
          "height": 208
        },
        "id": "BWnrgDqoxuUn",
        "outputId": "1246db80-b2ab-4733-f2b8-cfe4ec97a792"
      },
      "source": [
        "plot_objectness_logit_map(X)"
      ],
      "execution_count": null,
      "outputs": [
        {
          "output_type": "display_data",
          "data": {
            "image/png": "[encoded data removed]",
            "text/plain": [
              "<Figure size 1080x1080 with 5 Axes>"
            ]
          },
          "metadata": {
            "tags": [],
            "needs_background": "light"
          }
        }
      ]
    },
    {
      "cell_type": "markdown",
      "metadata": {
        "id": "oFaU_KIOK1HS"
      },
      "source": [
        "# 3. CAM\n",
        "\n",
        "Disadvantage: only works for easy architectures, where there's Res + max_pooling + classification layer. But for FastRCNN, this is harder.\n",
        "\n",
        "1. FPN: output size: (batch_size, 256, width, height)\n",
        "2. Add a max pooling layer to replace the ROI network.\n",
        "2. Classification layer: required input is (batch_size, 256, 7, 7) "
      ]
    },
    {
      "cell_type": "code",
      "metadata": {
        "id": "JIVNctkvTIkd",
        "colab": {
          "base_uri": "https://localhost:8080/"
        },
        "outputId": "2ad3670f-bcf6-48e2-b435-baa1ba2a0a73"
      },
      "source": [
        "fast_rcnn.eval()\n",
        "feature_map = fast_rcnn.backbone(X)\n",
        "feature_map.keys()"
      ],
      "execution_count": null,
      "outputs": [
        {
          "output_type": "execute_result",
          "data": {
            "text/plain": [
              "dict_keys(['p2', 'p3', 'p4', 'p5', 'p6'])"
            ]
          },
          "metadata": {
            "tags": []
          },
          "execution_count": 34
        }
      ]
    },
    {
      "cell_type": "code",
      "metadata": {
        "id": "PZcUMXvobzpV",
        "colab": {
          "base_uri": "https://localhost:8080/"
        },
        "outputId": "236b8c6f-ab5c-4be7-cc2c-0deb0de2b896"
      },
      "source": [
        "feature_map[\"p2\"].shape"
      ],
      "execution_count": null,
      "outputs": [
        {
          "output_type": "execute_result",
          "data": {
            "text/plain": [
              "torch.Size([1, 256, 128, 128])"
            ]
          },
          "metadata": {
            "tags": []
          },
          "execution_count": 37
        }
      ]
    },
    {
      "cell_type": "code",
      "metadata": {
        "id": "KeOv2qQMb_cT",
        "colab": {
          "base_uri": "https://localhost:8080/",
          "height": 285
        },
        "outputId": "d2e5c5ef-f9b8-4e14-d838-f25f7562da7e"
      },
      "source": [
        "plt.imshow(feature_map[\"p2\"][0][1].cpu().detach().numpy())"
      ],
      "execution_count": null,
      "outputs": [
        {
          "output_type": "execute_result",
          "data": {
            "text/plain": [
              "<matplotlib.image.AxesImage at 0x7fdc1786f208>"
            ]
          },
          "metadata": {
            "tags": []
          },
          "execution_count": 41
        },
        {
          "output_type": "display_data",
          "data": {
            "image/png": "[encoded data removed]",
            "text/plain": [
              "<Figure size 432x288 with 1 Axes>"
            ]
          },
          "metadata": {
            "tags": [],
            "needs_background": "light"
          }
        }
      ]
    },
    {
      "cell_type": "code",
      "metadata": {
        "id": "MhIgovgdTgLX",
        "colab": {
          "base_uri": "https://localhost:8080/"
        },
        "outputId": "9436c824-11fb-4bb6-901c-93678c427ff9"
      },
      "source": [
        "# get the feature map\n",
        "feature_map_pi = feature_map[\"p5\"]\n",
        "print(feature_map_pi.shape)\n",
        "\n",
        "# max pooling \n",
        "m = nn.MaxPool2d(3, stride=2)\n",
        "out = m(feature_map_pi)\n",
        "print(out.shape)\n",
        "\n",
        "# classification layer\n",
        "flater = fast_rcnn.roi_heads.box_head.flatten\n",
        "out = flater(out)\n",
        "print(out.shape)\n",
        "\n",
        "fc_1 = fast_rcnn.roi_heads.box_head.fc1\n",
        "out = fc_1(out)\n",
        "out = fast_rcnn.roi_heads.box_head.fc_relu1(out)\n",
        "print(out.shape)\n",
        "\n",
        "cls = fast_rcnn.roi_heads.box_predictor.cls_score\n",
        "out = cls(out)\n",
        "print(out.shape)"
      ],
      "execution_count": null,
      "outputs": [
        {
          "output_type": "stream",
          "text": [
            "torch.Size([1, 256, 16, 16])\n",
            "torch.Size([1, 256, 7, 7])\n",
            "torch.Size([1, 12544])\n",
            "torch.Size([1, 1024])\n",
            "torch.Size([1, 81])\n"
          ],
          "name": "stdout"
        }
      ]
    },
    {
      "cell_type": "code",
      "metadata": {
        "id": "9JSb4znsMMmV",
        "colab": {
          "base_uri": "https://localhost:8080/"
        },
        "outputId": "727a0bd1-af27-440e-cbe8-f3e946ccb9f9"
      },
      "source": [
        "softmax = nn.Softmax(dim=1)   # dim=3 represents the softmax is on the pixel. for each pixel, we take the softmax\n",
        "logits = softmax(out)\n",
        "print(logits.shape)"
      ],
      "execution_count": null,
      "outputs": [
        {
          "output_type": "stream",
          "text": [
            "torch.Size([1, 81])\n"
          ],
          "name": "stdout"
        }
      ]
    },
    {
      "cell_type": "code",
      "metadata": {
        "id": "LPXZBLcPUobc",
        "colab": {
          "base_uri": "https://localhost:8080/",
          "height": 302
        },
        "outputId": "2250d563-0da8-4565-ae97-032369d05737"
      },
      "source": [
        "out_ = out[0].permute(1,2,0)\n",
        "plt.imshow(out_.cpu().detach().numpy())"
      ],
      "execution_count": null,
      "outputs": [
        {
          "output_type": "stream",
          "text": [
            "Clipping input data to the valid range for imshow with RGB data ([0..1] for floats or [0..255] for integers).\n"
          ],
          "name": "stderr"
        },
        {
          "output_type": "execute_result",
          "data": {
            "text/plain": [
              "<matplotlib.image.AxesImage at 0x7f4ea89ad588>"
            ]
          },
          "metadata": {
            "tags": []
          },
          "execution_count": 19
        },
        {
          "output_type": "display_data",
          "data": {
            "image/png": "[encoded data removed]",
            "text/plain": [
              "<Figure size 432x288 with 1 Axes>"
            ]
          },
          "metadata": {
            "tags": [],
            "needs_background": "light"
          }
        }
      ]
    }
  ]
}