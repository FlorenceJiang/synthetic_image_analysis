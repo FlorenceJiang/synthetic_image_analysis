{
  "nbformat": 4,
  "nbformat_minor": 0,
  "metadata": {
    "colab": {
      "name": "Get_role_civil_imgs+coco.ipynb",
      "provenance": [],
      "collapsed_sections": []
    },
    "kernelspec": {
      "name": "python3",
      "display_name": "Python 3"
    }
  },
  "cells": [
    {
      "cell_type": "code",
      "metadata": {
        "id": "FDXbvQcF1LtX"
      },
      "source": [
        "import json\n",
        "import pandas as pd\n",
        "import math\n",
        "from tqdm import tqdm \n",
        "import cv2\n",
        "import numpy as np\n",
        "import os\n",
        "\n",
        "import torch \n",
        "import torchvision\n",
        "import torch.nn as nn \n",
        "from IPython.display import Image \n",
        "from torchvision import transforms\n",
        "import matplotlib.pyplot as plt\n",
        "import random\n",
        "from torch.utils.data import DataLoader\n",
        "from tqdm.auto import tqdm\n",
        "device = torch.device(\"cuda\" if torch.cuda.is_available() else \"cpu\")\n",
        "seed = 12345\n",
        "random.seed(seed)\n",
        "torch.manual_seed(seed)\n",
        "import PIL\n",
        "import requests\n",
        "  \n",
        "from sklearn import decomposition    \n",
        "from sklearn.preprocessing import MinMaxScaler"
      ],
      "execution_count": null,
      "outputs": []
    },
    {
      "cell_type": "markdown",
      "metadata": {
        "id": "WWsktNrl9o54"
      },
      "source": [
        "# Load Data"
      ]
    },
    {
      "cell_type": "markdown",
      "metadata": {
        "id": "DzFW4D0VNM3p"
      },
      "source": [
        "## Real Data\n",
        "create new directory with only images."
      ]
    },
    {
      "cell_type": "code",
      "metadata": {
        "colab": {
          "base_uri": "https://localhost:8080/"
        },
        "id": "tt6IcicuRN-8",
        "outputId": "189a8f0b-332d-4085-924a-6e0f2e3719f6"
      },
      "source": [
        "real_test_role_coco_dir = \"/content/drive/MyDrive/111 Rendered.ai/RarePlanes/datasets/coco_data/role_real_test_coco.json\"\n",
        "real_imgs_dir = \"/content/drive/MyDrive/111 Rendered.ai/RarePlanes/datasets/real/test/RarePlanes_test_PS-RGB_tiled.tar.gz (Unzipped Files)/PS-RGB_tiled\"\n",
        "real_json_dir = real_test_role_coco_dir\n",
        "with open(real_json_dir) as json_file:\n",
        "    real_coco = json.load(json_file)\n",
        "    \n",
        "print(real_coco.keys())\n",
        "print(\"Num images:{}\".format(len(real_coco['images'])))\n",
        "print(\"Num classes:{}\".format(len(real_coco['categories'])))\n",
        "print(\"Num bbox/instances:{}\".format(len(real_coco['annotations'])))\n",
        "\n",
        "img_list_real = pd.DataFrame(real_coco['images'])\n",
        "img_list_real.head()\n",
        "\n",
        "annotations_real = pd.DataFrame(real_coco['annotations'])\n",
        "annotations_real.head()\n",
        "\n",
        "ann_real = annotations_real.merge(img_list_real, how='left', left_on=\"image_id\", right_on=\"id\")\n",
        "ann_real.shape\n",
        "\n",
        "# filter\n",
        "print(\"keep only the civil category planes, left with {} instances\".format(ann_real[ann_real[\"category_id\"] <=2].shape[0]))\n",
        "civil_images_list = list(ann_real[ann_real[\"category_id\"] <=2].file_name.unique())\n",
        "print(\"keeping only {} images\".format(len(civil_images_list)))"
      ],
      "execution_count": null,
      "outputs": [
        {
          "output_type": "stream",
          "text": [
            "dict_keys(['annotations', 'categories', 'images'])\n",
            "Num images:2710\n",
            "Num classes:7\n",
            "Num bbox/instances:6812\n",
            "keep only the civil category planes, left with 6457 instances\n",
            "keeping only 2601 images\n"
          ],
          "name": "stdout"
        }
      ]
    },
    {
      "cell_type": "code",
      "metadata": {
        "colab": {
          "base_uri": "https://localhost:8080/"
        },
        "id": "st79ZmWsO0QF",
        "outputId": "3962eb47-b689-4889-e110-e4fcffc92030"
      },
      "source": [
        "# cp to new images dir\n",
        "from shutil import copyfile\n",
        "from tqdm import tqdm\n",
        "\n",
        "dst_dir = \"/content/drive/MyDrive/111 Rendered.ai/RarePlanes/datasets/real/civil_test/\"\n",
        "previous_imgs_dir = \"/content/drive/MyDrive/111 Rendered.ai/RarePlanes/datasets/real/test/RarePlanes_test_PS-RGB_tiled.tar.gz (Unzipped Files)/PS-RGB_tiled/\"\n",
        "for f in tqdm(civil_images_list):\n",
        "  src = previous_imgs_dir+f\n",
        "  copyfile(src, dst_dir+f)"
      ],
      "execution_count": null,
      "outputs": [
        {
          "output_type": "stream",
          "text": [
            "100%|██████████| 2601/2601 [37:19<00:00,  1.16it/s]\n"
          ],
          "name": "stderr"
        }
      ]
    },
    {
      "cell_type": "code",
      "metadata": {
        "id": "NZxzOr-4YSi3"
      },
      "source": [
        "# create a new json file\n",
        "\n",
        "# generate civil role coco file\n",
        "# role_real_test_coco_path = \"/content/gdrive/MyDrive/RarePlanes/datasets/real/test/role_real_coco.json\" # 这里改成你的path\n",
        "role_real_test_coco_path = \"/content/drive/MyDrive/111 Rendered.ai/RarePlanes/datasets/coco_data/role_real_test_coco.json\"\n",
        "with open(role_real_test_coco_path) as json_file:\n",
        "    test_coco = json.load(json_file)\n",
        "\n",
        "civil_test_coco = {}\n",
        "civil_test_coco['annotations'] = [ann for ann in test_coco['annotations'] if ann['category_id'] <= 2]\n",
        "civil_test_image_ids = [ann['image_id'] for ann in test_coco['annotations'] if ann['category_id'] <= 2]\n",
        "civil_test_coco['images'] = [image for image in test_coco['images'] if image['id'] in civil_test_image_ids]\n",
        "civil_test_coco['categories'] = [{'id': 0, 'name': \"civil_small\"}, {'id': 1, 'name': \"civil_medium\"}, {'id': 2, 'name': \"civil_large\"}]\n",
        "\n",
        "## need to save civil_test_coco\n",
        "# civil_role_real_test_coco_path = \"/content/gdrive/MyDrive/RarePlanes/datasets/real/civil_test/civil_role_real_coco.json\" # 这里改成你的path\n",
        "civil_role_real_test_coco_path = \"/content/drive/MyDrive/111 Rendered.ai/RarePlanes/datasets/coco_data/civil_role_real_test_coco.json\"\n",
        "with open(civil_role_real_test_coco_path, 'w') as outfile:\n",
        "    json.dump(civil_test_coco, outfile)"
      ],
      "execution_count": null,
      "outputs": []
    }
  ]
}